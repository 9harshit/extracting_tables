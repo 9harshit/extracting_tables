{
 "cells": [
  {
   "cell_type": "markdown",
   "id": "applied-wiring",
   "metadata": {},
   "source": [
    "# Importing Library"
   ]
  },
  {
   "cell_type": "code",
   "execution_count": null,
   "id": "fossil-board",
   "metadata": {},
   "outputs": [],
   "source": [
    "import tabula\n",
    "import os\n",
    "import urllib.request"
   ]
  },
  {
   "cell_type": "code",
   "execution_count": null,
   "id": "bottom-flight",
   "metadata": {},
   "outputs": [],
   "source": [
    "file = \"http://www.kepcorp.com/annualreport2018/pdf/keppel-corporation-limited-annual-report-2018.pdf\""
   ]
  },
  {
   "cell_type": "markdown",
   "id": "proof-murder",
   "metadata": {},
   "source": [
    "# Downloading PDF file and Saving it"
   ]
  },
  {
   "cell_type": "code",
   "execution_count": null,
   "id": "dried-adoption",
   "metadata": {},
   "outputs": [],
   "source": [
    "urllib.request.urlretrieve(file, \"filename.pdf\")"
   ]
  },
  {
   "cell_type": "markdown",
   "id": "federal-engineer",
   "metadata": {},
   "source": [
    "# Creating Output Folder"
   ]
  },
  {
   "cell_type": "code",
   "execution_count": null,
   "id": "worse-preserve",
   "metadata": {},
   "outputs": [],
   "source": [
    "folder_name = \"output_final\"\n",
    "if not os.path.isdir(folder_name):\n",
    "    os.mkdir(folder_name)"
   ]
  },
  {
   "cell_type": "markdown",
   "id": "enormous-stockholm",
   "metadata": {},
   "source": [
    "# Processing PDF and Extracting Table\n",
    "\n",
    "- Reading each page of PDF\n",
    "- Saving individual page of PDF file as separate PDF\n",
    "- Using Tabula reading file page PDF file and extracting table and saving extracted table as excel file"
   ]
  },
  {
   "cell_type": "code",
   "execution_count": null,
   "id": "honest-afternoon",
   "metadata": {},
   "outputs": [],
   "source": [
    "from PyPDF2 import PdfFileWriter, PdfFileReader\n",
    "\n",
    "inputpdf = PdfFileReader(open(\"filename.pdf\", \"rb\"))\n",
    "\n",
    "\n",
    "for i in range(inputpdf.numPages):\n",
    "    output = PdfFileWriter()\n",
    "    output.addPage(inputpdf.getPage(i))\n",
    "    #, pages = \"69-230\"\n",
    "    if i > 63:\n",
    "      with open(\"document-page%s.pdf\" % i, \"wb\") as outputStream:\n",
    "        output.write(outputStream)\n",
    "\n",
    "      table = tabula.read_pdf(\"document-page%s.pdf\" % i, pages = \"1\")\n",
    "      # iterate over extracted tables and export as excel individually\n",
    "      for j, table in enumerate(table, start=1):\n",
    "        if table.shape[0]>=2 and table.shape[1]>=2:\n",
    "          table.to_excel(os.path.join(folder_name, f\"table_{i}_{j}_.xlsx\"), index=False)"
   ]
  },
  {
   "cell_type": "markdown",
   "id": "corrected-seafood",
   "metadata": {},
   "source": [
    "# Compressing output folder "
   ]
  },
  {
   "cell_type": "code",
   "execution_count": null,
   "id": "valid-edmonton",
   "metadata": {},
   "outputs": [],
   "source": [
    "!zip -r /content/output.zip /content/output_final"
   ]
  }
 ],
 "metadata": {
  "kernelspec": {
   "display_name": "Python 3",
   "language": "python",
   "name": "python3"
  },
  "language_info": {
   "codemirror_mode": {
    "name": "ipython",
    "version": 3
   },
   "file_extension": ".py",
   "mimetype": "text/x-python",
   "name": "python",
   "nbconvert_exporter": "python",
   "pygments_lexer": "ipython3",
   "version": "3.8.8"
  }
 },
 "nbformat": 4,
 "nbformat_minor": 5
}
