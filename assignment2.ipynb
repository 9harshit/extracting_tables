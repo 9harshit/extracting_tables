{
 "cells": [
  {
   "cell_type": "markdown",
   "id": "sealed-johns",
   "metadata": {},
   "source": [
    "# Importing Libraries"
   ]
  },
  {
   "cell_type": "code",
   "execution_count": null,
   "id": "animated-spell",
   "metadata": {},
   "outputs": [],
   "source": [
    "import tabula\n",
    "import os"
   ]
  },
  {
   "cell_type": "markdown",
   "id": "specified-enclosure",
   "metadata": {},
   "source": [
    "# Extracting Tables\n",
    "\n",
    "- Tables are extracted from the pdf using read_pdf function \n",
    "- Tables from page no. 69 to 230 are only extracted"
   ]
  },
  {
   "cell_type": "code",
   "execution_count": null,
   "id": "environmental-dining",
   "metadata": {},
   "outputs": [],
   "source": [
    "tables = tabula.read_pdf(\"/content/keppel-corporation-limited-annual-report-2018.pdf\", pages=\"69-230\", multiple_tables=True)"
   ]
  },
  {
   "cell_type": "markdown",
   "id": "solar-raleigh",
   "metadata": {},
   "source": [
    "# Saving Tables\n",
    "\n",
    "- Extracted tables are stored in excel file\n",
    "- Because of the format of the used in the experiment some page no. ever detected as tables hence checking the size of the to get proper tables only"
   ]
  },
  {
   "cell_type": "code",
   "execution_count": null,
   "id": "amateur-greek",
   "metadata": {},
   "outputs": [],
   "source": [
    "folder_name = \"output_final\"\n",
    "if not os.path.isdir(folder_name):\n",
    "    os.mkdir(folder_name)\n",
    "    \n",
    "# iterate over extracted tables and export as excel individually\n",
    "for i, table in enumerate(tables, start=1):\n",
    "    if table.shape[0]>=2 and table.shape[1]>=2:\n",
    "      table.to_excel(os.path.join(folder_name, f\"table_{i}.xlsx\"), index=False)"
   ]
  }
 ],
 "metadata": {
  "kernelspec": {
   "display_name": "Python 3",
   "language": "python",
   "name": "python3"
  },
  "language_info": {
   "codemirror_mode": {
    "name": "ipython",
    "version": 3
   },
   "file_extension": ".py",
   "mimetype": "text/x-python",
   "name": "python",
   "nbconvert_exporter": "python",
   "pygments_lexer": "ipython3",
   "version": "3.8.8"
  }
 },
 "nbformat": 4,
 "nbformat_minor": 5
}
